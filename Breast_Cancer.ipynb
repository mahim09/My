{
  "cells": [
    {
      "cell_type": "markdown",
      "metadata": {
        "id": "view-in-github",
        "colab_type": "text"
      },
      "source": [
        "<a href=\"https://colab.research.google.com/github/mahim09/DLM/blob/main/Breast_Cancer.ipynb\" target=\"_parent\"><img src=\"https://colab.research.google.com/assets/colab-badge.svg\" alt=\"Open In Colab\"/></a>"
      ]
    },
    {
      "cell_type": "code",
      "source": [
        "from google.colab import drive\n",
        "drive.mount('/content/drive')"
      ],
      "metadata": {
        "colab": {
          "base_uri": "https://localhost:8080/"
        },
        "id": "XbLNRfuZWFcl",
        "outputId": "d24e10ca-8bf9-414d-c4c7-2f3d400244d1"
      },
      "execution_count": 1,
      "outputs": [
        {
          "output_type": "stream",
          "name": "stdout",
          "text": [
            "Drive already mounted at /content/drive; to attempt to forcibly remount, call drive.mount(\"/content/drive\", force_remount=True).\n"
          ]
        }
      ]
    },
    {
      "cell_type": "code",
      "execution_count": 2,
      "metadata": {
        "id": "nytWPfUIIAwm"
      },
      "outputs": [],
      "source": [
        "import tensorflow as tf\n",
        "from tensorflow.keras import models, layers\n",
        "import matplotlib.pyplot as plt\n",
        "from IPython.display import HTML\n",
        "import numpy as np\n",
        "import pandas as pd\n",
        "import PIL.Image as Image\n",
        "import os\n",
        "import tensorflow_hub as hub\n",
        "from tensorflow import keras\n",
        "from tensorflow.keras import layers\n",
        "from tensorflow.keras.models import Sequential\n",
        "from tensorflow.keras.layers import Input, Lambda, Dense, Flatten,Conv2D\n",
        "from tensorflow.keras.models import Model\n",
        "from tensorflow.keras.preprocessing import image\n",
        "from tensorflow.keras.preprocessing.image import ImageDataGenerator,load_img\n",
        "from glob import glob\n",
        "from keras.layers import Activation, BatchNormalization, Dense, Dropout, Flatten, Conv2D, MaxPooling2D\n",
        "from sklearn.utils.multiclass import unique_labels"
      ]
    },
    {
      "cell_type": "code",
      "source": [
        "from zipfile import ZipFile\n",
        "\n",
        "with ZipFile('/content/drive/MyDrive/Colab Notebooks/Breast Cancer/BUID Dataset.zip', 'r') as zipObj:\n",
        "\n",
        "     zipObj.extractall('BreastCancer')"
      ],
      "metadata": {
        "id": "2QDCT4MUH6mp"
      },
      "execution_count": 3,
      "outputs": []
    },
    {
      "cell_type": "code",
      "source": [
        "pip install split-folders"
      ],
      "metadata": {
        "colab": {
          "base_uri": "https://localhost:8080/"
        },
        "id": "VZWeGnzvaHb6",
        "outputId": "04516742-e93e-45e0-ce67-4cefe758eb33"
      },
      "execution_count": 4,
      "outputs": [
        {
          "output_type": "stream",
          "name": "stdout",
          "text": [
            "Looking in indexes: https://pypi.org/simple, https://us-python.pkg.dev/colab-wheels/public/simple/\n",
            "Requirement already satisfied: split-folders in /usr/local/lib/python3.7/dist-packages (0.5.1)\n"
          ]
        }
      ]
    },
    {
      "cell_type": "code",
      "source": [
        "import splitfolders\n",
        "input_folder = '/content/BreastCancer/BUID/'"
      ],
      "metadata": {
        "id": "Q85gwPdrJDqE"
      },
      "execution_count": 5,
      "outputs": []
    },
    {
      "cell_type": "code",
      "source": [
        "splitfolders.ratio(input_folder, output=\"dataset3\", \n",
        "                   seed=123, ratio=(.8, .1, .1), \n",
        "                   group_prefix=None)"
      ],
      "metadata": {
        "colab": {
          "base_uri": "https://localhost:8080/"
        },
        "id": "8Mhc-WFwJri7",
        "outputId": "9507ce74-190e-43d8-90c8-cea6794f678c"
      },
      "execution_count": 6,
      "outputs": [
        {
          "output_type": "stream",
          "name": "stderr",
          "text": [
            "Copying files: 780 files [00:00, 1336.60 files/s]\n"
          ]
        }
      ]
    },
    {
      "cell_type": "code",
      "execution_count": 7,
      "metadata": {
        "id": "8Dt0rr08Pcfd"
      },
      "outputs": [],
      "source": [
        "BATCH_SIZE = 64\n",
        "IMAGE_SIZE = 224\n",
        "CHANNELS=3\n",
        "EPOCHS = 120"
      ]
    },
    {
      "cell_type": "code",
      "source": [
        "train_ds = tf.keras.preprocessing.image_dataset_from_directory(\n",
        "'/content/dataset3/train',\n",
        "image_size= (IMAGE_SIZE, IMAGE_SIZE), batch_size= BATCH_SIZE)\n",
        "\n",
        "test_ds = tf.keras.preprocessing.image_dataset_from_directory(\n",
        "'/content/dataset3/test',\n",
        "image_size= (IMAGE_SIZE, IMAGE_SIZE), batch_size= BATCH_SIZE)\n",
        "\n",
        "val_ds = tf.keras.preprocessing.image_dataset_from_directory(\n",
        "'/content/dataset3/val',\n",
        "image_size= (IMAGE_SIZE, IMAGE_SIZE), batch_size= BATCH_SIZE)"
      ],
      "metadata": {
        "colab": {
          "base_uri": "https://localhost:8080/"
        },
        "id": "FgMEIsKgNp31",
        "outputId": "b171c19d-9985-4a5c-9db5-83ae5d406b72"
      },
      "execution_count": 8,
      "outputs": [
        {
          "output_type": "stream",
          "name": "stdout",
          "text": [
            "Found 623 files belonging to 3 classes.\n",
            "Found 80 files belonging to 3 classes.\n",
            "Found 77 files belonging to 3 classes.\n"
          ]
        }
      ]
    },
    {
      "cell_type": "code",
      "source": [
        "train_dataset = tf.keras.preprocessing.image_dataset_from_directory('/content/dataset3/train')\n",
        "\n",
        "class_names= train_dataset.class_names\n",
        "class_names"
      ],
      "metadata": {
        "colab": {
          "base_uri": "https://localhost:8080/"
        },
        "id": "jz_VDGu4aZP0",
        "outputId": "f16f3dd4-f6e7-4f64-ec40-1adb8bdbfcd8"
      },
      "execution_count": 9,
      "outputs": [
        {
          "output_type": "stream",
          "name": "stdout",
          "text": [
            "Found 623 files belonging to 3 classes.\n"
          ]
        },
        {
          "output_type": "execute_result",
          "data": {
            "text/plain": [
              "['benign', 'malignant', 'normal']"
            ]
          },
          "metadata": {},
          "execution_count": 9
        }
      ]
    },
    {
      "cell_type": "code",
      "source": [
        "resize_and_rescale = tf.keras.Sequential([\n",
        "  layers.experimental.preprocessing.Resizing(IMAGE_SIZE, IMAGE_SIZE),\n",
        "  layers.experimental.preprocessing.Rescaling(1./255),\n",
        "])"
      ],
      "metadata": {
        "id": "dCDG0EEcaksE"
      },
      "execution_count": 10,
      "outputs": []
    },
    {
      "cell_type": "code",
      "source": [
        "data_augmentation = tf.keras.Sequential([\n",
        "layers.experimental.preprocessing.RandomFlip(\"horizontal_and_vertical\"),\n",
        "layers.experimental.preprocessing.RandomRotation(0.3),\n",
        "])"
      ],
      "metadata": {
        "id": "ck6A9zotanit"
      },
      "execution_count": 11,
      "outputs": []
    },
    {
      "cell_type": "code",
      "source": [
        "training_ds = train_ds.map(\n",
        "lambda x, y: (data_augmentation(x, training=True), y)\n",
        ").prefetch(buffer_size=tf.data.AUTOTUNE)"
      ],
      "metadata": {
        "id": "q33QkfEJaqD4"
      },
      "execution_count": 12,
      "outputs": []
    },
    {
      "cell_type": "code",
      "source": [
        "input_shape = (BATCH_SIZE, IMAGE_SIZE, IMAGE_SIZE, CHANNELS)\n",
        "n_classes = 3\n",
        "\n",
        "model = models.Sequential([\n",
        "    resize_and_rescale,\n",
        "    layers.Conv2D(32, kernel_size = (3,3), activation='relu', input_shape=input_shape),\n",
        "    layers.MaxPooling2D((2, 2)),\n",
        "    layers.Conv2D(32,  kernel_size = (3,3), activation='relu'),\n",
        "    layers.MaxPooling2D((2, 2)),\n",
        "    layers.Conv2D(32,  kernel_size = (3,3), activation='relu'),\n",
        "    layers.MaxPooling2D((2, 2)),\n",
        "    layers.Conv2D(32, (3, 3), activation='relu'),\n",
        "    layers.MaxPooling2D((2, 2)),\n",
        "    layers.Conv2D(128, (3, 3), activation='relu'),\n",
        "    layers.MaxPooling2D((2, 2)),\n",
        "    layers.Flatten(),\n",
        "    layers.Dense(1024, activation='relu'),\n",
        "    layers.Dense(n_classes, activation='softmax'),\n",
        "])\n",
        "\n",
        "model.build(input_shape=input_shape)\n",
        "\n",
        "model.summary()"
      ],
      "metadata": {
        "colab": {
          "base_uri": "https://localhost:8080/"
        },
        "id": "RP-_l2tbasT5",
        "outputId": "77f129be-2389-4290-86d2-9666cedb9227"
      },
      "execution_count": 13,
      "outputs": [
        {
          "output_type": "stream",
          "name": "stdout",
          "text": [
            "Model: \"sequential_2\"\n",
            "_________________________________________________________________\n",
            " Layer (type)                Output Shape              Param #   \n",
            "=================================================================\n",
            " sequential (Sequential)     (64, 224, 224, 3)         0         \n",
            "                                                                 \n",
            " conv2d (Conv2D)             (64, 222, 222, 32)        896       \n",
            "                                                                 \n",
            " max_pooling2d (MaxPooling2D  (64, 111, 111, 32)       0         \n",
            " )                                                               \n",
            "                                                                 \n",
            " conv2d_1 (Conv2D)           (64, 109, 109, 32)        9248      \n",
            "                                                                 \n",
            " max_pooling2d_1 (MaxPooling  (64, 54, 54, 32)         0         \n",
            " 2D)                                                             \n",
            "                                                                 \n",
            " conv2d_2 (Conv2D)           (64, 52, 52, 32)          9248      \n",
            "                                                                 \n",
            " max_pooling2d_2 (MaxPooling  (64, 26, 26, 32)         0         \n",
            " 2D)                                                             \n",
            "                                                                 \n",
            " conv2d_3 (Conv2D)           (64, 24, 24, 32)          9248      \n",
            "                                                                 \n",
            " max_pooling2d_3 (MaxPooling  (64, 12, 12, 32)         0         \n",
            " 2D)                                                             \n",
            "                                                                 \n",
            " conv2d_4 (Conv2D)           (64, 10, 10, 128)         36992     \n",
            "                                                                 \n",
            " max_pooling2d_4 (MaxPooling  (64, 5, 5, 128)          0         \n",
            " 2D)                                                             \n",
            "                                                                 \n",
            " flatten (Flatten)           (64, 3200)                0         \n",
            "                                                                 \n",
            " dense (Dense)               (64, 1024)                3277824   \n",
            "                                                                 \n",
            " dense_1 (Dense)             (64, 3)                   3075      \n",
            "                                                                 \n",
            "=================================================================\n",
            "Total params: 3,346,531\n",
            "Trainable params: 3,346,531\n",
            "Non-trainable params: 0\n",
            "_________________________________________________________________\n"
          ]
        }
      ]
    },
    {
      "cell_type": "code",
      "source": [
        "model.compile(\n",
        "    optimizer='adam',\n",
        "    loss=tf.keras.losses.SparseCategoricalCrossentropy(from_logits=False),\n",
        "    metrics=['accuracy']\n",
        ")"
      ],
      "metadata": {
        "id": "nqGqZ5krayE1"
      },
      "execution_count": 14,
      "outputs": []
    },
    {
      "cell_type": "code",
      "source": [
        "import time\n",
        "start = time.time()\n",
        "history = model.fit(\n",
        "    training_ds,\n",
        "    batch_size=BATCH_SIZE,\n",
        "    validation_data=val_ds,\n",
        "    verbose=1,\n",
        "    epochs=EPOCHS,\n",
        ")\n",
        "print(\"Total time: \", time.time() - start, \"seconds\")"
      ],
      "metadata": {
        "colab": {
          "base_uri": "https://localhost:8080/"
        },
        "id": "O1tzMBbya1st",
        "outputId": "a4e76f4b-b032-4749-daf5-062c1d94b29c"
      },
      "execution_count": 15,
      "outputs": [
        {
          "output_type": "stream",
          "name": "stdout",
          "text": [
            "Epoch 1/120\n",
            "10/10 [==============================] - 12s 479ms/step - loss: 0.9910 - accuracy: 0.5281 - val_loss: 0.9630 - val_accuracy: 0.5584\n",
            "Epoch 2/120\n",
            "10/10 [==============================] - 7s 440ms/step - loss: 0.9547 - accuracy: 0.5602 - val_loss: 0.9366 - val_accuracy: 0.5584\n",
            "Epoch 3/120\n",
            "10/10 [==============================] - 7s 434ms/step - loss: 0.9429 - accuracy: 0.5602 - val_loss: 0.9219 - val_accuracy: 0.5584\n",
            "Epoch 4/120\n",
            "10/10 [==============================] - 7s 447ms/step - loss: 0.9185 - accuracy: 0.5602 - val_loss: 0.9315 - val_accuracy: 0.5584\n",
            "Epoch 5/120\n",
            "10/10 [==============================] - 7s 441ms/step - loss: 0.9003 - accuracy: 0.5650 - val_loss: 0.8786 - val_accuracy: 0.6234\n",
            "Epoch 6/120\n",
            "10/10 [==============================] - 7s 445ms/step - loss: 0.9056 - accuracy: 0.5907 - val_loss: 0.8374 - val_accuracy: 0.6104\n",
            "Epoch 7/120\n",
            "10/10 [==============================] - 7s 439ms/step - loss: 0.8952 - accuracy: 0.6164 - val_loss: 0.8453 - val_accuracy: 0.5584\n",
            "Epoch 8/120\n",
            "10/10 [==============================] - 7s 440ms/step - loss: 0.8696 - accuracy: 0.5971 - val_loss: 0.8213 - val_accuracy: 0.5844\n",
            "Epoch 9/120\n",
            "10/10 [==============================] - 7s 439ms/step - loss: 0.8494 - accuracy: 0.6421 - val_loss: 0.7682 - val_accuracy: 0.6104\n",
            "Epoch 10/120\n",
            "10/10 [==============================] - 7s 440ms/step - loss: 0.8235 - accuracy: 0.6469 - val_loss: 0.7592 - val_accuracy: 0.6494\n",
            "Epoch 11/120\n",
            "10/10 [==============================] - 7s 439ms/step - loss: 0.7930 - accuracy: 0.6613 - val_loss: 0.7203 - val_accuracy: 0.6753\n",
            "Epoch 12/120\n",
            "10/10 [==============================] - 7s 439ms/step - loss: 0.7919 - accuracy: 0.6453 - val_loss: 0.7746 - val_accuracy: 0.6364\n",
            "Epoch 13/120\n",
            "10/10 [==============================] - 7s 440ms/step - loss: 0.7702 - accuracy: 0.6597 - val_loss: 0.7798 - val_accuracy: 0.6883\n",
            "Epoch 14/120\n",
            "10/10 [==============================] - 7s 439ms/step - loss: 0.7326 - accuracy: 0.6677 - val_loss: 0.7169 - val_accuracy: 0.6753\n",
            "Epoch 15/120\n",
            "10/10 [==============================] - 7s 440ms/step - loss: 0.7391 - accuracy: 0.6726 - val_loss: 0.9484 - val_accuracy: 0.5974\n",
            "Epoch 16/120\n",
            "10/10 [==============================] - 7s 438ms/step - loss: 0.8335 - accuracy: 0.5939 - val_loss: 0.7259 - val_accuracy: 0.6623\n",
            "Epoch 17/120\n",
            "10/10 [==============================] - 7s 442ms/step - loss: 0.7837 - accuracy: 0.6324 - val_loss: 0.7666 - val_accuracy: 0.6494\n",
            "Epoch 18/120\n",
            "10/10 [==============================] - 7s 437ms/step - loss: 0.7481 - accuracy: 0.6693 - val_loss: 0.7474 - val_accuracy: 0.6623\n",
            "Epoch 19/120\n",
            "10/10 [==============================] - 9s 439ms/step - loss: 0.7223 - accuracy: 0.6661 - val_loss: 0.7980 - val_accuracy: 0.6753\n",
            "Epoch 20/120\n",
            "10/10 [==============================] - 7s 436ms/step - loss: 0.6932 - accuracy: 0.6742 - val_loss: 0.9880 - val_accuracy: 0.6234\n",
            "Epoch 21/120\n",
            "10/10 [==============================] - 7s 440ms/step - loss: 0.6644 - accuracy: 0.7127 - val_loss: 0.7007 - val_accuracy: 0.7273\n",
            "Epoch 22/120\n",
            "10/10 [==============================] - 7s 439ms/step - loss: 0.6651 - accuracy: 0.7255 - val_loss: 0.7008 - val_accuracy: 0.6104\n",
            "Epoch 23/120\n",
            "10/10 [==============================] - 7s 436ms/step - loss: 0.6306 - accuracy: 0.7335 - val_loss: 0.7452 - val_accuracy: 0.6623\n",
            "Epoch 24/120\n",
            "10/10 [==============================] - 7s 438ms/step - loss: 0.6648 - accuracy: 0.7143 - val_loss: 0.7827 - val_accuracy: 0.6104\n",
            "Epoch 25/120\n",
            "10/10 [==============================] - 7s 438ms/step - loss: 0.6812 - accuracy: 0.6902 - val_loss: 0.6952 - val_accuracy: 0.6753\n",
            "Epoch 26/120\n",
            "10/10 [==============================] - 7s 437ms/step - loss: 0.6450 - accuracy: 0.7079 - val_loss: 0.7880 - val_accuracy: 0.6753\n",
            "Epoch 27/120\n",
            "10/10 [==============================] - 7s 440ms/step - loss: 0.6552 - accuracy: 0.7079 - val_loss: 0.7001 - val_accuracy: 0.6753\n",
            "Epoch 28/120\n",
            "10/10 [==============================] - 7s 471ms/step - loss: 0.6388 - accuracy: 0.7319 - val_loss: 0.7095 - val_accuracy: 0.7013\n",
            "Epoch 29/120\n",
            "10/10 [==============================] - 7s 442ms/step - loss: 0.6486 - accuracy: 0.7175 - val_loss: 0.7011 - val_accuracy: 0.6753\n",
            "Epoch 30/120\n",
            "10/10 [==============================] - 7s 436ms/step - loss: 0.6115 - accuracy: 0.7287 - val_loss: 1.2022 - val_accuracy: 0.6364\n",
            "Epoch 31/120\n",
            "10/10 [==============================] - 7s 440ms/step - loss: 0.6209 - accuracy: 0.7191 - val_loss: 0.7083 - val_accuracy: 0.7403\n",
            "Epoch 32/120\n",
            "10/10 [==============================] - 7s 440ms/step - loss: 0.5995 - accuracy: 0.7432 - val_loss: 0.8401 - val_accuracy: 0.6494\n",
            "Epoch 33/120\n",
            "10/10 [==============================] - 7s 442ms/step - loss: 0.5709 - accuracy: 0.7560 - val_loss: 1.0029 - val_accuracy: 0.7403\n",
            "Epoch 34/120\n",
            "10/10 [==============================] - 7s 438ms/step - loss: 0.6015 - accuracy: 0.7400 - val_loss: 1.0240 - val_accuracy: 0.7403\n",
            "Epoch 35/120\n",
            "10/10 [==============================] - 7s 444ms/step - loss: 0.6337 - accuracy: 0.7223 - val_loss: 1.1870 - val_accuracy: 0.6883\n",
            "Epoch 36/120\n",
            "10/10 [==============================] - 8s 491ms/step - loss: 0.5911 - accuracy: 0.7608 - val_loss: 1.2024 - val_accuracy: 0.6623\n",
            "Epoch 37/120\n",
            "10/10 [==============================] - 8s 440ms/step - loss: 0.5704 - accuracy: 0.7400 - val_loss: 1.0839 - val_accuracy: 0.7143\n",
            "Epoch 38/120\n",
            "10/10 [==============================] - 7s 441ms/step - loss: 0.5620 - accuracy: 0.7592 - val_loss: 1.0926 - val_accuracy: 0.7013\n",
            "Epoch 39/120\n",
            "10/10 [==============================] - 7s 445ms/step - loss: 0.5573 - accuracy: 0.7464 - val_loss: 0.9944 - val_accuracy: 0.7143\n",
            "Epoch 40/120\n",
            "10/10 [==============================] - 7s 439ms/step - loss: 0.5643 - accuracy: 0.7737 - val_loss: 1.0045 - val_accuracy: 0.7143\n",
            "Epoch 41/120\n",
            "10/10 [==============================] - 7s 445ms/step - loss: 0.5290 - accuracy: 0.7737 - val_loss: 1.3884 - val_accuracy: 0.7143\n",
            "Epoch 42/120\n",
            "10/10 [==============================] - 7s 442ms/step - loss: 0.5572 - accuracy: 0.7592 - val_loss: 1.1789 - val_accuracy: 0.7143\n",
            "Epoch 43/120\n",
            "10/10 [==============================] - 7s 440ms/step - loss: 0.5405 - accuracy: 0.7689 - val_loss: 1.1329 - val_accuracy: 0.7013\n",
            "Epoch 44/120\n",
            "10/10 [==============================] - 7s 437ms/step - loss: 0.5393 - accuracy: 0.7512 - val_loss: 0.7475 - val_accuracy: 0.6623\n",
            "Epoch 45/120\n",
            "10/10 [==============================] - 7s 441ms/step - loss: 0.5267 - accuracy: 0.7673 - val_loss: 0.8398 - val_accuracy: 0.6883\n",
            "Epoch 46/120\n",
            "10/10 [==============================] - 7s 439ms/step - loss: 0.5034 - accuracy: 0.7913 - val_loss: 0.7772 - val_accuracy: 0.6753\n",
            "Epoch 47/120\n",
            "10/10 [==============================] - 7s 440ms/step - loss: 0.5282 - accuracy: 0.7769 - val_loss: 0.9649 - val_accuracy: 0.7013\n",
            "Epoch 48/120\n",
            "10/10 [==============================] - 7s 441ms/step - loss: 0.4865 - accuracy: 0.7961 - val_loss: 1.0189 - val_accuracy: 0.7273\n",
            "Epoch 49/120\n",
            "10/10 [==============================] - 7s 445ms/step - loss: 0.5112 - accuracy: 0.7624 - val_loss: 1.2160 - val_accuracy: 0.7273\n",
            "Epoch 50/120\n",
            "10/10 [==============================] - 7s 443ms/step - loss: 0.5219 - accuracy: 0.7624 - val_loss: 1.1797 - val_accuracy: 0.6883\n",
            "Epoch 51/120\n",
            "10/10 [==============================] - 7s 436ms/step - loss: 0.5064 - accuracy: 0.7865 - val_loss: 0.8099 - val_accuracy: 0.6494\n",
            "Epoch 52/120\n",
            "10/10 [==============================] - 7s 443ms/step - loss: 0.5134 - accuracy: 0.7849 - val_loss: 0.7819 - val_accuracy: 0.6883\n",
            "Epoch 53/120\n",
            "10/10 [==============================] - 7s 437ms/step - loss: 0.4985 - accuracy: 0.7833 - val_loss: 1.0192 - val_accuracy: 0.6494\n",
            "Epoch 54/120\n",
            "10/10 [==============================] - 8s 543ms/step - loss: 0.5178 - accuracy: 0.7801 - val_loss: 0.9974 - val_accuracy: 0.6364\n",
            "Epoch 55/120\n",
            "10/10 [==============================] - 7s 438ms/step - loss: 0.4950 - accuracy: 0.7881 - val_loss: 0.9560 - val_accuracy: 0.7273\n",
            "Epoch 56/120\n",
            "10/10 [==============================] - 7s 443ms/step - loss: 0.4750 - accuracy: 0.8010 - val_loss: 1.1969 - val_accuracy: 0.7273\n",
            "Epoch 57/120\n",
            "10/10 [==============================] - 7s 440ms/step - loss: 0.4765 - accuracy: 0.8026 - val_loss: 0.9769 - val_accuracy: 0.7403\n",
            "Epoch 58/120\n",
            "10/10 [==============================] - 7s 441ms/step - loss: 0.4279 - accuracy: 0.8266 - val_loss: 1.0631 - val_accuracy: 0.7143\n",
            "Epoch 59/120\n",
            "10/10 [==============================] - 7s 440ms/step - loss: 0.4485 - accuracy: 0.8042 - val_loss: 1.0187 - val_accuracy: 0.7013\n",
            "Epoch 60/120\n",
            "10/10 [==============================] - 7s 444ms/step - loss: 0.4736 - accuracy: 0.8010 - val_loss: 1.2320 - val_accuracy: 0.7403\n",
            "Epoch 61/120\n",
            "10/10 [==============================] - 7s 441ms/step - loss: 0.4641 - accuracy: 0.7913 - val_loss: 1.1692 - val_accuracy: 0.7013\n",
            "Epoch 62/120\n",
            "10/10 [==============================] - 7s 438ms/step - loss: 0.4700 - accuracy: 0.8058 - val_loss: 1.3104 - val_accuracy: 0.6753\n",
            "Epoch 63/120\n",
            "10/10 [==============================] - 7s 439ms/step - loss: 0.4920 - accuracy: 0.7849 - val_loss: 1.1750 - val_accuracy: 0.7013\n",
            "Epoch 64/120\n",
            "10/10 [==============================] - 7s 441ms/step - loss: 0.4342 - accuracy: 0.8218 - val_loss: 1.1981 - val_accuracy: 0.7662\n",
            "Epoch 65/120\n",
            "10/10 [==============================] - 7s 464ms/step - loss: 0.4260 - accuracy: 0.8122 - val_loss: 1.3397 - val_accuracy: 0.7532\n",
            "Epoch 66/120\n",
            "10/10 [==============================] - 7s 435ms/step - loss: 0.4270 - accuracy: 0.8283 - val_loss: 0.9356 - val_accuracy: 0.7403\n",
            "Epoch 67/120\n",
            "10/10 [==============================] - 7s 441ms/step - loss: 0.4048 - accuracy: 0.8315 - val_loss: 1.1707 - val_accuracy: 0.7013\n",
            "Epoch 68/120\n",
            "10/10 [==============================] - 7s 442ms/step - loss: 0.4147 - accuracy: 0.8347 - val_loss: 1.4837 - val_accuracy: 0.7273\n",
            "Epoch 69/120\n",
            "10/10 [==============================] - 7s 441ms/step - loss: 0.3662 - accuracy: 0.8491 - val_loss: 1.5333 - val_accuracy: 0.7143\n",
            "Epoch 70/120\n",
            "10/10 [==============================] - 7s 442ms/step - loss: 0.3531 - accuracy: 0.8539 - val_loss: 1.2827 - val_accuracy: 0.7013\n",
            "Epoch 71/120\n",
            "10/10 [==============================] - 7s 442ms/step - loss: 0.3923 - accuracy: 0.8363 - val_loss: 1.7522 - val_accuracy: 0.7792\n",
            "Epoch 72/120\n",
            "10/10 [==============================] - 9s 503ms/step - loss: 0.3788 - accuracy: 0.8491 - val_loss: 1.4806 - val_accuracy: 0.7532\n",
            "Epoch 73/120\n",
            "10/10 [==============================] - 7s 438ms/step - loss: 0.3870 - accuracy: 0.8363 - val_loss: 1.3454 - val_accuracy: 0.7403\n",
            "Epoch 74/120\n",
            "10/10 [==============================] - 7s 440ms/step - loss: 0.3543 - accuracy: 0.8571 - val_loss: 1.1410 - val_accuracy: 0.7273\n",
            "Epoch 75/120\n",
            "10/10 [==============================] - 7s 455ms/step - loss: 0.3747 - accuracy: 0.8379 - val_loss: 1.1018 - val_accuracy: 0.7143\n",
            "Epoch 76/120\n",
            "10/10 [==============================] - 7s 449ms/step - loss: 0.3417 - accuracy: 0.8636 - val_loss: 1.3281 - val_accuracy: 0.7403\n",
            "Epoch 77/120\n",
            "10/10 [==============================] - 7s 443ms/step - loss: 0.3802 - accuracy: 0.8379 - val_loss: 1.4645 - val_accuracy: 0.7403\n",
            "Epoch 78/120\n",
            "10/10 [==============================] - 7s 447ms/step - loss: 0.3949 - accuracy: 0.8315 - val_loss: 1.6109 - val_accuracy: 0.7143\n",
            "Epoch 79/120\n",
            "10/10 [==============================] - 7s 446ms/step - loss: 0.3347 - accuracy: 0.8636 - val_loss: 1.4604 - val_accuracy: 0.7013\n",
            "Epoch 80/120\n",
            "10/10 [==============================] - 7s 446ms/step - loss: 0.3419 - accuracy: 0.8555 - val_loss: 1.2030 - val_accuracy: 0.7273\n",
            "Epoch 81/120\n",
            "10/10 [==============================] - 7s 442ms/step - loss: 0.3460 - accuracy: 0.8604 - val_loss: 0.9850 - val_accuracy: 0.7143\n",
            "Epoch 82/120\n",
            "10/10 [==============================] - 7s 448ms/step - loss: 0.3441 - accuracy: 0.8620 - val_loss: 1.3081 - val_accuracy: 0.7403\n",
            "Epoch 83/120\n",
            "10/10 [==============================] - 7s 448ms/step - loss: 0.3025 - accuracy: 0.8892 - val_loss: 1.8281 - val_accuracy: 0.7143\n",
            "Epoch 84/120\n",
            "10/10 [==============================] - 7s 439ms/step - loss: 0.3154 - accuracy: 0.8796 - val_loss: 0.9797 - val_accuracy: 0.7143\n",
            "Epoch 85/120\n",
            "10/10 [==============================] - 7s 447ms/step - loss: 0.3392 - accuracy: 0.8636 - val_loss: 1.6652 - val_accuracy: 0.7143\n",
            "Epoch 86/120\n",
            "10/10 [==============================] - 7s 443ms/step - loss: 0.3898 - accuracy: 0.8395 - val_loss: 1.8929 - val_accuracy: 0.7532\n",
            "Epoch 87/120\n",
            "10/10 [==============================] - 7s 444ms/step - loss: 0.4546 - accuracy: 0.8026 - val_loss: 1.0629 - val_accuracy: 0.6623\n",
            "Epoch 88/120\n",
            "10/10 [==============================] - 7s 443ms/step - loss: 0.4136 - accuracy: 0.8443 - val_loss: 1.5371 - val_accuracy: 0.7013\n",
            "Epoch 89/120\n",
            "10/10 [==============================] - 8s 504ms/step - loss: 0.3434 - accuracy: 0.8604 - val_loss: 1.1920 - val_accuracy: 0.7403\n",
            "Epoch 90/120\n",
            "10/10 [==============================] - 7s 439ms/step - loss: 0.3022 - accuracy: 0.8812 - val_loss: 1.1479 - val_accuracy: 0.7013\n",
            "Epoch 91/120\n",
            "10/10 [==============================] - 7s 445ms/step - loss: 0.2922 - accuracy: 0.8748 - val_loss: 1.2506 - val_accuracy: 0.7403\n",
            "Epoch 92/120\n",
            "10/10 [==============================] - 7s 443ms/step - loss: 0.2939 - accuracy: 0.8812 - val_loss: 1.6780 - val_accuracy: 0.7532\n",
            "Epoch 93/120\n",
            "10/10 [==============================] - 7s 446ms/step - loss: 0.2752 - accuracy: 0.8844 - val_loss: 1.2460 - val_accuracy: 0.7273\n",
            "Epoch 94/120\n",
            "10/10 [==============================] - 7s 437ms/step - loss: 0.2745 - accuracy: 0.8941 - val_loss: 1.4654 - val_accuracy: 0.7403\n",
            "Epoch 95/120\n",
            "10/10 [==============================] - 7s 438ms/step - loss: 0.3153 - accuracy: 0.8684 - val_loss: 1.6602 - val_accuracy: 0.7143\n",
            "Epoch 96/120\n",
            "10/10 [==============================] - 7s 442ms/step - loss: 0.3187 - accuracy: 0.8876 - val_loss: 1.2138 - val_accuracy: 0.7013\n",
            "Epoch 97/120\n",
            "10/10 [==============================] - 7s 443ms/step - loss: 0.2701 - accuracy: 0.8892 - val_loss: 1.4024 - val_accuracy: 0.7143\n",
            "Epoch 98/120\n",
            "10/10 [==============================] - 7s 441ms/step - loss: 0.2663 - accuracy: 0.8973 - val_loss: 1.6991 - val_accuracy: 0.7273\n",
            "Epoch 99/120\n",
            "10/10 [==============================] - 7s 437ms/step - loss: 0.2373 - accuracy: 0.9165 - val_loss: 1.1484 - val_accuracy: 0.7532\n",
            "Epoch 100/120\n",
            "10/10 [==============================] - 7s 441ms/step - loss: 0.2495 - accuracy: 0.9053 - val_loss: 1.6738 - val_accuracy: 0.7143\n",
            "Epoch 101/120\n",
            "10/10 [==============================] - 7s 437ms/step - loss: 0.2723 - accuracy: 0.8941 - val_loss: 1.2534 - val_accuracy: 0.7013\n",
            "Epoch 102/120\n",
            "10/10 [==============================] - 7s 440ms/step - loss: 0.2629 - accuracy: 0.8925 - val_loss: 1.4113 - val_accuracy: 0.7403\n",
            "Epoch 103/120\n",
            "10/10 [==============================] - 7s 437ms/step - loss: 0.2903 - accuracy: 0.8828 - val_loss: 1.4991 - val_accuracy: 0.6623\n",
            "Epoch 104/120\n",
            "10/10 [==============================] - 7s 448ms/step - loss: 0.2641 - accuracy: 0.8812 - val_loss: 1.3821 - val_accuracy: 0.7273\n",
            "Epoch 105/120\n",
            "10/10 [==============================] - 7s 446ms/step - loss: 0.2453 - accuracy: 0.9101 - val_loss: 1.5583 - val_accuracy: 0.7273\n",
            "Epoch 106/120\n",
            "10/10 [==============================] - 8s 505ms/step - loss: 0.2865 - accuracy: 0.9053 - val_loss: 1.2736 - val_accuracy: 0.7403\n",
            "Epoch 107/120\n",
            "10/10 [==============================] - 7s 443ms/step - loss: 0.3047 - accuracy: 0.9037 - val_loss: 1.2480 - val_accuracy: 0.6883\n",
            "Epoch 108/120\n",
            "10/10 [==============================] - 7s 442ms/step - loss: 0.2270 - accuracy: 0.9165 - val_loss: 0.8943 - val_accuracy: 0.7403\n",
            "Epoch 109/120\n",
            "10/10 [==============================] - 7s 443ms/step - loss: 0.3008 - accuracy: 0.8684 - val_loss: 1.6248 - val_accuracy: 0.7403\n",
            "Epoch 110/120\n",
            "10/10 [==============================] - 7s 445ms/step - loss: 0.3181 - accuracy: 0.8780 - val_loss: 1.1053 - val_accuracy: 0.7143\n",
            "Epoch 111/120\n",
            "10/10 [==============================] - 7s 444ms/step - loss: 0.3135 - accuracy: 0.8828 - val_loss: 0.9335 - val_accuracy: 0.7403\n",
            "Epoch 112/120\n",
            "10/10 [==============================] - 7s 444ms/step - loss: 0.3410 - accuracy: 0.8844 - val_loss: 1.4611 - val_accuracy: 0.7143\n",
            "Epoch 113/120\n",
            "10/10 [==============================] - 7s 443ms/step - loss: 0.3015 - accuracy: 0.8716 - val_loss: 1.4808 - val_accuracy: 0.7403\n",
            "Epoch 114/120\n",
            "10/10 [==============================] - 7s 447ms/step - loss: 0.2193 - accuracy: 0.9165 - val_loss: 1.7757 - val_accuracy: 0.7403\n",
            "Epoch 115/120\n",
            "10/10 [==============================] - 7s 446ms/step - loss: 0.2116 - accuracy: 0.9230 - val_loss: 1.8500 - val_accuracy: 0.7532\n",
            "Epoch 116/120\n",
            "10/10 [==============================] - 7s 444ms/step - loss: 0.2170 - accuracy: 0.9246 - val_loss: 1.7253 - val_accuracy: 0.7792\n",
            "Epoch 117/120\n",
            "10/10 [==============================] - 7s 449ms/step - loss: 0.1810 - accuracy: 0.9342 - val_loss: 1.9703 - val_accuracy: 0.7662\n",
            "Epoch 118/120\n",
            "10/10 [==============================] - 7s 442ms/step - loss: 0.1872 - accuracy: 0.9230 - val_loss: 1.5597 - val_accuracy: 0.7403\n",
            "Epoch 119/120\n",
            "10/10 [==============================] - 7s 445ms/step - loss: 0.2116 - accuracy: 0.9117 - val_loss: 1.8095 - val_accuracy: 0.7273\n",
            "Epoch 120/120\n",
            "10/10 [==============================] - 7s 445ms/step - loss: 0.1866 - accuracy: 0.9310 - val_loss: 2.0904 - val_accuracy: 0.7532\n",
            "Total time:  895.4971129894257 seconds\n"
          ]
        }
      ]
    },
    {
      "cell_type": "code",
      "source": [
        "scores = model.evaluate(test_ds)"
      ],
      "metadata": {
        "id": "ytfS2jhCa8hO",
        "colab": {
          "base_uri": "https://localhost:8080/"
        },
        "outputId": "538ade4f-7afb-4785-aa25-a5a624018557"
      },
      "execution_count": 16,
      "outputs": [
        {
          "output_type": "stream",
          "name": "stdout",
          "text": [
            "2/2 [==============================] - 1s 208ms/step - loss: 1.5416 - accuracy: 0.7500\n"
          ]
        }
      ]
    },
    {
      "cell_type": "code",
      "source": [
        "#model.save('Pig Cells.h5')"
      ],
      "metadata": {
        "id": "CLevtZtAcju4"
      },
      "execution_count": 19,
      "outputs": []
    },
    {
      "cell_type": "code",
      "execution_count": 17,
      "metadata": {
        "id": "kQZH-JH1Cke8"
      },
      "outputs": [],
      "source": [
        "acc = history.history['accuracy']\n",
        "val_acc = history.history['val_accuracy']\n",
        "\n",
        "loss = history.history['loss']\n",
        "val_loss = history.history['val_loss']"
      ]
    },
    {
      "cell_type": "code",
      "execution_count": 18,
      "metadata": {
        "id": "FitK3h5gCriy",
        "colab": {
          "base_uri": "https://localhost:8080/",
          "height": 336
        },
        "outputId": "c105bc10-26be-468b-f2b1-162d754f72ff"
      },
      "outputs": [
        {
          "output_type": "display_data",
          "data": {
            "text/plain": [
              "<Figure size 1080x360 with 2 Axes>"
            ],
            "image/png": "[encoded data removed]"
          },
          "metadata": {
            "needs_background": "light"
          }
        }
      ],
      "source": [
        "plt.figure(figsize=(15, 5))\n",
        "plt.subplot(1, 2, 1)\n",
        "plt.plot(range(EPOCHS), acc, label='Training Accuracy')\n",
        "plt.plot(range(EPOCHS), val_acc, label='Validation Accuracy')\n",
        "plt.legend(loc='lower right')\n",
        "plt.title('Training and Validation Accuracy')\n",
        "\n",
        "plt.subplot(1, 2, 2)\n",
        "plt.plot(range(EPOCHS), loss, label='Training Loss')\n",
        "plt.plot(range(EPOCHS), val_loss, label='Validation Loss')\n",
        "plt.legend(loc='upper right')\n",
        "plt.title('Training and Validation Loss')\n",
        "plt.show()"
      ]
    },
    {
      "cell_type": "code",
      "source": [
        "import numpy as np\n",
        "for images_batch, labels_batch in test_ds.take(1):\n",
        "    x_test1 = images_batch.numpy().astype('uint8')\n",
        "    y_test1 = labels_batch.numpy()\n",
        "    batch_prediction = model.predict(images_batch)\n",
        "    y_predicted1 = np.argmax(batch_prediction,axis=1)"
      ],
      "metadata": {
        "id": "zUWb88tCpRCB"
      },
      "execution_count": null,
      "outputs": []
    },
    {
      "cell_type": "code",
      "source": [
        "import numpy as np\n",
        "for images_batch, labels_batch in test_ds.take(2):\n",
        "    x_test2 = images_batch.numpy().astype('uint8')\n",
        "    y_test2 = labels_batch.numpy()\n",
        "    batch_prediction = model.predict(images_batch)\n",
        "    y_predicted2 = np.argmax(batch_prediction,axis=1)"
      ],
      "metadata": {
        "id": "Z8tFtkW4pSUb"
      },
      "execution_count": null,
      "outputs": []
    },
    {
      "cell_type": "code",
      "source": [
        "import numpy as np\n",
        "for images_batch, labels_batch in test_ds.take(3):\n",
        "    x_test3 = images_batch.numpy().astype('uint8')\n",
        "    y_test3 = labels_batch.numpy()\n",
        "    batch_prediction = model.predict(images_batch)\n",
        "    y_predicted3 = np.argmax(batch_prediction,axis=1)"
      ],
      "metadata": {
        "id": "HoZMZzGBpVy9"
      },
      "execution_count": null,
      "outputs": []
    },
    {
      "cell_type": "code",
      "source": [
        "import numpy as np\n",
        "for images_batch, labels_batch in test_ds.take(4):\n",
        "    x_test4 = images_batch.numpy().astype('uint8')\n",
        "    y_test4 = labels_batch.numpy()\n",
        "    batch_prediction = model.predict(images_batch)\n",
        "    y_predicted4 = np.argmax(batch_prediction,axis=1)"
      ],
      "metadata": {
        "id": "b76wVqXYpbd3"
      },
      "execution_count": null,
      "outputs": []
    },
    {
      "cell_type": "code",
      "source": [
        "import numpy as np\n",
        "for images_batch, labels_batch in test_ds.take(5):\n",
        "    x_test5 = images_batch.numpy().astype('uint8')\n",
        "    y_test5 = labels_batch.numpy()\n",
        "    batch_prediction = model.predict(images_batch)\n",
        "    y_predicted5 = np.argmax(batch_prediction,axis=1)"
      ],
      "metadata": {
        "id": "n0j9zwe1phzp"
      },
      "execution_count": null,
      "outputs": []
    },
    {
      "cell_type": "code",
      "source": [
        "x_test = np.concatenate((x_test1, x_test2, x_test3, x_test4, x_test5),axis = 0)"
      ],
      "metadata": {
        "id": "n8QUAoJnp6hc"
      },
      "execution_count": null,
      "outputs": []
    },
    {
      "cell_type": "code",
      "source": [
        "z = x_test.reshape(-1,1)"
      ],
      "metadata": {
        "id": "dLfSOnS0qLyz"
      },
      "execution_count": null,
      "outputs": []
    },
    {
      "cell_type": "code",
      "source": [
        "y_test = np.hstack((y_test1, y_test2, y_test3, y_test4, y_test5))"
      ],
      "metadata": {
        "id": "Cj9frxkxqPUt"
      },
      "execution_count": null,
      "outputs": []
    },
    {
      "cell_type": "code",
      "source": [
        "y_predict = np.hstack((y_predicted1, y_predicted2, y_predicted3, y_predicted4, y_predicted5))"
      ],
      "metadata": {
        "id": "pMBJJGvYqnS7"
      },
      "execution_count": null,
      "outputs": []
    },
    {
      "cell_type": "code",
      "execution_count": null,
      "metadata": {
        "id": "HNdVsByMSLDf"
      },
      "outputs": [],
      "source": [
        "from mlxtend.plotting import plot_confusion_matrix\n",
        "from sklearn.metrics import confusion_matrix"
      ]
    },
    {
      "cell_type": "code",
      "execution_count": null,
      "metadata": {
        "id": "XlwCObcHT8v2"
      },
      "outputs": [],
      "source": [
        "from sklearn.metrics import confusion_matrix,classification_report\n",
        "cm = confusion_matrix(y_test, y_predict)\n",
        "print(classification_report(y_test, y_predict))"
      ]
    }
  ],
  "metadata": {
    "accelerator": "GPU",
    "colab": {
      "collapsed_sections": [],
      "name": "Breast Cancer.ipynb",
      "provenance": [],
      "include_colab_link": true
    },
    "kernelspec": {
      "display_name": "Python 3",
      "name": "python3"
    },
    "language_info": {
      "name": "python"
    }
  },
  "nbformat": 4,
  "nbformat_minor": 0
}